{
 "cells": [
  {
   "metadata": {
    "ExecuteTime": {
     "end_time": "2025-06-11T17:56:05.736568Z",
     "start_time": "2025-06-11T17:56:05.731881Z"
    }
   },
   "cell_type": "code",
   "source": [
    "import json, re\n",
    "from pathlib import Path\n",
    "\n",
    "import pandas as pd\n",
    "import networkx as nx\n",
    "import matplotlib.pyplot as plt"
   ],
   "id": "ca532c4e4deb888d",
   "outputs": [],
   "execution_count": 2
  },
  {
   "metadata": {
    "ExecuteTime": {
     "end_time": "2025-06-11T17:56:06.738513Z",
     "start_time": "2025-06-11T17:56:06.202367Z"
    }
   },
   "cell_type": "code",
   "source": [
    "def load_json(path: str) -> list:\n",
    "    \"\"\"\n",
    "    Load a JSON or JSON-Lines file and always return **a list**.\n",
    "    \"\"\"\n",
    "    txt = Path(path).read_text(encoding=\"utf-8\").strip()\n",
    "    if not txt:\n",
    "        return []\n",
    "    # JSON-Lines → many objects, one per line\n",
    "    if \"\\n\" in txt and not txt.lstrip().startswith(\"[\"):\n",
    "        return [json.loads(line) for line in txt.splitlines() if line.strip()]\n",
    "    # Normal JSON (could be list or single obj)\n",
    "    obj = json.loads(txt)\n",
    "    return obj if isinstance(obj, list) else [obj]\n",
    "\n",
    "# ---- Load customer search history ----\n",
    "search_raw = load_json(\"search_history.json\")"
   ],
   "id": "47c1db80c4d270a4",
   "outputs": [],
   "execution_count": 3
  },
  {
   "metadata": {
    "ExecuteTime": {
     "end_time": "2025-06-11T17:56:20.323456Z",
     "start_time": "2025-06-11T17:56:20.275903Z"
    }
   },
   "cell_type": "code",
   "source": [
    "def extract_query_text(o):\n",
    "    \"\"\"Return a plain text query from a raw history record.\"\"\"\n",
    "    if isinstance(o, str):\n",
    "        return o\n",
    "    if isinstance(o, dict):\n",
    "        for k in [\"query\", \"title\", \"search_term\", \"text\", \"header\"]:\n",
    "            if k in o and isinstance(o[k], str) and o[k].strip():\n",
    "                return o[k]\n",
    "        return \" \".join(str(v) for v in o.values() if isinstance(v, str))\n",
    "    return str(o)\n",
    "\n",
    "search_history = [extract_query_text(x) for x in search_raw]\n",
    "search_df = pd.DataFrame({\"query\": search_history})\n",
    "search_df.head(10)"
   ],
   "id": "367724c10cd31884",
   "outputs": [
    {
     "data": {
      "text/plain": [
       "                                               query\n",
       "0  Visited https://www.businessinsider.com/shivon...\n",
       "1  Visited Elon Musk and Shivon Zilis privately w...\n",
       "2                Searched for elon musk shivon zilis\n",
       "3                                     1 notification\n",
       "4               Searched for bank station fire alert\n",
       "5               Searched for bank station fire alert\n",
       "6                   Searched for mukesh ambani house\n",
       "7  Visited Teens could lose bank accounts and dri...\n",
       "8  Visited Starmer: Sunak showing 'total lack of ...\n",
       "9  Visited Sunak looked like a man who was runnin..."
      ],
      "text/html": [
       "<div>\n",
       "<style scoped>\n",
       "    .dataframe tbody tr th:only-of-type {\n",
       "        vertical-align: middle;\n",
       "    }\n",
       "\n",
       "    .dataframe tbody tr th {\n",
       "        vertical-align: top;\n",
       "    }\n",
       "\n",
       "    .dataframe thead th {\n",
       "        text-align: right;\n",
       "    }\n",
       "</style>\n",
       "<table border=\"1\" class=\"dataframe\">\n",
       "  <thead>\n",
       "    <tr style=\"text-align: right;\">\n",
       "      <th></th>\n",
       "      <th>query</th>\n",
       "    </tr>\n",
       "  </thead>\n",
       "  <tbody>\n",
       "    <tr>\n",
       "      <th>0</th>\n",
       "      <td>Visited https://www.businessinsider.com/shivon...</td>\n",
       "    </tr>\n",
       "    <tr>\n",
       "      <th>1</th>\n",
       "      <td>Visited Elon Musk and Shivon Zilis privately w...</td>\n",
       "    </tr>\n",
       "    <tr>\n",
       "      <th>2</th>\n",
       "      <td>Searched for elon musk shivon zilis</td>\n",
       "    </tr>\n",
       "    <tr>\n",
       "      <th>3</th>\n",
       "      <td>1 notification</td>\n",
       "    </tr>\n",
       "    <tr>\n",
       "      <th>4</th>\n",
       "      <td>Searched for bank station fire alert</td>\n",
       "    </tr>\n",
       "    <tr>\n",
       "      <th>5</th>\n",
       "      <td>Searched for bank station fire alert</td>\n",
       "    </tr>\n",
       "    <tr>\n",
       "      <th>6</th>\n",
       "      <td>Searched for mukesh ambani house</td>\n",
       "    </tr>\n",
       "    <tr>\n",
       "      <th>7</th>\n",
       "      <td>Visited Teens could lose bank accounts and dri...</td>\n",
       "    </tr>\n",
       "    <tr>\n",
       "      <th>8</th>\n",
       "      <td>Visited Starmer: Sunak showing 'total lack of ...</td>\n",
       "    </tr>\n",
       "    <tr>\n",
       "      <th>9</th>\n",
       "      <td>Visited Sunak looked like a man who was runnin...</td>\n",
       "    </tr>\n",
       "  </tbody>\n",
       "</table>\n",
       "</div>"
      ]
     },
     "execution_count": 7,
     "metadata": {},
     "output_type": "execute_result"
    }
   ],
   "execution_count": 7
  },
  {
   "metadata": {
    "ExecuteTime": {
     "end_time": "2025-06-11T17:56:35.498927Z",
     "start_time": "2025-06-11T17:56:32.796325Z"
    }
   },
   "cell_type": "code",
   "source": [
    "# ---- Load fashion catalogue ----\n",
    "catalog_raw = load_json(\"fashion_catalog.json\")\n",
    "fashion_df  = pd.DataFrame(catalog_raw)\n",
    "\n",
    "# ------------------------------------------------------------\n",
    "# Gracefully determine a product’s display-name once and for all\n",
    "# ------------------------------------------------------------\n",
    "def get_product_name(row) -> str:\n",
    "    return (\n",
    "        row.get(\"product_name\")\n",
    "        or row.get(\"name\")\n",
    "        or row.get(\"PRODUCT_NAME\")\n",
    "        or row.get(\"title\")\n",
    "        or \"Unnamed item\"\n",
    "    )\n",
    "\n",
    "fashion_df[\"product_name\"] = fashion_df.apply(get_product_name, axis=1)\n",
    "\n",
    "print(f\"Loaded {len(search_df)} search queries and {len(fashion_df)} catalog items.\")\n",
    "fashion_df.head(3)"
   ],
   "id": "8e7cd23ae6b6254",
   "outputs": [
    {
     "name": "stdout",
     "output_type": "stream",
     "text": [
      "Loaded 55383 search queries and 100000 catalog items.\n"
     ]
    },
    {
     "data": {
      "text/plain": [
       "                                          MAIN_IMAGE  \\\n",
       "0  https://cdna.lystit.com/photos/wolfandbadger/5...   \n",
       "1  https://cdna.lystit.com/photos/farfetch/d774e2...   \n",
       "2  https://cdna.lystit.com/photos/ssense/61ba817f...   \n",
       "\n",
       "                                        SECOND_IMAGE  \\\n",
       "0                                               None   \n",
       "1  https://cdna.lystit.com/photos/farfetch/8b088f...   \n",
       "2  https://cdna.lystit.com/photos/ssense/2289aeba...   \n",
       "\n",
       "                                         THIRD_IMAGE  \\\n",
       "0                                               None   \n",
       "1  https://cdna.lystit.com/photos/farfetch/6a4008...   \n",
       "2  https://cdna.lystit.com/photos/ssense/161426cf...   \n",
       "\n",
       "                                        FOURTH_IMAGE  \\\n",
       "0                                               None   \n",
       "1                                               None   \n",
       "2  https://cdna.lystit.com/photos/ssense/b5c625a9...   \n",
       "\n",
       "                                    LYST_PRODUCT_URL GENDER CATEGORY  \\\n",
       "0  https://www.lyst.com/shoes/laines-london-class...      F    flats   \n",
       "1  https://www.lyst.com/clothing/oscar-de-la-rent...      F   skirts   \n",
       "2  https://www.lyst.com/clothing/coperni-green-as...      F  dresses   \n",
       "\n",
       "                                   SHORT_DESCRIPTION  \\\n",
       "0  Classic Laines Slippers With Pearl Beaded Lobs...   \n",
       "1                     Dahlia Floral-print Midi Skirt   \n",
       "2                               Asymmetric Minidress   \n",
       "\n",
       "                                    LONG_DESCRIPTION  product_name  \n",
       "0  Our faux fur cross strap classic slippers offe...  Unnamed item  \n",
       "1  Material:Polyester. This item may not be on sa...  Unnamed item  \n",
       "2  Stretch nylon jersey dress. · Single-shoulder ...  Unnamed item  "
      ],
      "text/html": [
       "<div>\n",
       "<style scoped>\n",
       "    .dataframe tbody tr th:only-of-type {\n",
       "        vertical-align: middle;\n",
       "    }\n",
       "\n",
       "    .dataframe tbody tr th {\n",
       "        vertical-align: top;\n",
       "    }\n",
       "\n",
       "    .dataframe thead th {\n",
       "        text-align: right;\n",
       "    }\n",
       "</style>\n",
       "<table border=\"1\" class=\"dataframe\">\n",
       "  <thead>\n",
       "    <tr style=\"text-align: right;\">\n",
       "      <th></th>\n",
       "      <th>MAIN_IMAGE</th>\n",
       "      <th>SECOND_IMAGE</th>\n",
       "      <th>THIRD_IMAGE</th>\n",
       "      <th>FOURTH_IMAGE</th>\n",
       "      <th>LYST_PRODUCT_URL</th>\n",
       "      <th>GENDER</th>\n",
       "      <th>CATEGORY</th>\n",
       "      <th>SHORT_DESCRIPTION</th>\n",
       "      <th>LONG_DESCRIPTION</th>\n",
       "      <th>product_name</th>\n",
       "    </tr>\n",
       "  </thead>\n",
       "  <tbody>\n",
       "    <tr>\n",
       "      <th>0</th>\n",
       "      <td>https://cdna.lystit.com/photos/wolfandbadger/5...</td>\n",
       "      <td>None</td>\n",
       "      <td>None</td>\n",
       "      <td>None</td>\n",
       "      <td>https://www.lyst.com/shoes/laines-london-class...</td>\n",
       "      <td>F</td>\n",
       "      <td>flats</td>\n",
       "      <td>Classic Laines Slippers With Pearl Beaded Lobs...</td>\n",
       "      <td>Our faux fur cross strap classic slippers offe...</td>\n",
       "      <td>Unnamed item</td>\n",
       "    </tr>\n",
       "    <tr>\n",
       "      <th>1</th>\n",
       "      <td>https://cdna.lystit.com/photos/farfetch/d774e2...</td>\n",
       "      <td>https://cdna.lystit.com/photos/farfetch/8b088f...</td>\n",
       "      <td>https://cdna.lystit.com/photos/farfetch/6a4008...</td>\n",
       "      <td>None</td>\n",
       "      <td>https://www.lyst.com/clothing/oscar-de-la-rent...</td>\n",
       "      <td>F</td>\n",
       "      <td>skirts</td>\n",
       "      <td>Dahlia Floral-print Midi Skirt</td>\n",
       "      <td>Material:Polyester. This item may not be on sa...</td>\n",
       "      <td>Unnamed item</td>\n",
       "    </tr>\n",
       "    <tr>\n",
       "      <th>2</th>\n",
       "      <td>https://cdna.lystit.com/photos/ssense/61ba817f...</td>\n",
       "      <td>https://cdna.lystit.com/photos/ssense/2289aeba...</td>\n",
       "      <td>https://cdna.lystit.com/photos/ssense/161426cf...</td>\n",
       "      <td>https://cdna.lystit.com/photos/ssense/b5c625a9...</td>\n",
       "      <td>https://www.lyst.com/clothing/coperni-green-as...</td>\n",
       "      <td>F</td>\n",
       "      <td>dresses</td>\n",
       "      <td>Asymmetric Minidress</td>\n",
       "      <td>Stretch nylon jersey dress. · Single-shoulder ...</td>\n",
       "      <td>Unnamed item</td>\n",
       "    </tr>\n",
       "  </tbody>\n",
       "</table>\n",
       "</div>"
      ]
     },
     "execution_count": 8,
     "metadata": {},
     "output_type": "execute_result"
    }
   ],
   "execution_count": 8
  },
  {
   "metadata": {
    "ExecuteTime": {
     "end_time": "2025-06-11T17:56:36.033765Z",
     "start_time": "2025-06-11T17:56:35.679160Z"
    }
   },
   "cell_type": "code",
   "source": [
    "stopwords = {\n",
    "    \"the\", \"is\", \"are\", \"for\", \"a\", \"an\", \"to\", \"of\", \"and\",\n",
    "    \"in\", \"what\", \"how\", \"best\", \"with\",\n",
    "}\n",
    "\n",
    "def extract_keywords(text: str):\n",
    "    text = text.lower()\n",
    "    text = re.sub(r\"[^a-z0-9]+\", \" \", text)\n",
    "    words = text.split()\n",
    "    return {w for w in words if w not in stopwords and len(w) > 2}\n",
    "\n",
    "# ---- User interest keywords ----\n",
    "interest_keywords = set()\n",
    "for q in search_history:\n",
    "    interest_keywords.update(extract_keywords(q))\n",
    "\n",
    "print(\"Extracted interest keywords:\")\n",
    "print(sorted(list(interest_keywords))[:25], \"...\")"
   ],
   "id": "df6f28911d2f65e5",
   "outputs": [
    {
     "name": "stdout",
     "output_type": "stream",
     "text": [
      "Extracted interest keywords:\n",
      "['000', '0000', '00000000', '000000006445386005', '000000022198587011', '00001', '00002774', '000104746912002169', '0001079114', '000110465921001952', '000110465921072713', '0001193125', '000121390021008694', '0001578860', '0001673977', '0001691421', '0001693552', '0001708567', '0001783879', '0001795586', '00026', '0003192', '00039', '0004', '00044'] ...\n"
     ]
    }
   ],
   "execution_count": 9
  },
  {
   "metadata": {
    "ExecuteTime": {
     "end_time": "2025-06-11T17:57:02.602680Z",
     "start_time": "2025-06-11T17:56:58.846654Z"
    }
   },
   "cell_type": "code",
   "source": [
    "# Build combined text and keyword list per item\n",
    "def product_text(row):\n",
    "    name = row.get(\"product_name\")  # always set\n",
    "    desc = (\n",
    "        row.get(\"description\")\n",
    "        or row.get(\"SHORT_DESCRIPTION\")\n",
    "        or row.get(\"LONG_DESCRIPTION\")\n",
    "        or \"\"\n",
    "    )\n",
    "    tags = (\n",
    "        row.get(\"tags\")\n",
    "        or row.get(\"TAGS\")\n",
    "        or row.get(\"tag_list\")\n",
    "        or row.get(\"TAG\")\n",
    "        or []\n",
    "    )\n",
    "    tags_str = \" \".join(tags) if isinstance(tags, list) else str(tags)\n",
    "    return f\"{name} {desc} {tags_str}\"\n",
    "\n",
    "fashion_df[\"combined_text\"]   = fashion_df.apply(product_text, axis=1)\n",
    "fashion_df[\"product_keywords\"] = fashion_df[\"combined_text\"].apply(extract_keywords)\n",
    "fashion_df[\"product_keywords\"].head(10)"
   ],
   "id": "df9594f129107325",
   "outputs": [
    {
     "data": {
      "text/plain": [
       "0        {classic, laines, lobster, brooches, shell, it...\n",
       "1        {dahlia, midi, skirt, item, floral, print, unn...\n",
       "2                   {asymmetric, unnamed, minidress, item}\n",
       "3                  {billfold, slim, item, unnamed, wallet}\n",
       "4                           {tees, unnamed, graphic, item}\n",
       "                               ...                        \n",
       "99995       {bomber, hoodie, style, item, jacket, unnamed}\n",
       "99996                     {shorts, unnamed, bermuda, item}\n",
       "99997                   {cloud, bag, item, carry, unnamed}\n",
       "99998             {rwb, item, unnamed, stripe, sweatshirt}\n",
       "99999                        {print, unnamed, shirt, item}\n",
       "Name: product_keywords, Length: 100000, dtype: object"
      ]
     },
     "execution_count": 11,
     "metadata": {},
     "output_type": "execute_result"
    }
   ],
   "execution_count": 11
  },
  {
   "metadata": {
    "jupyter": {
     "is_executing": true
    }
   },
   "cell_type": "code",
   "source": [
    "from tqdm.auto import tqdm\n",
    "tqdm.pandas()                                   # turns .progress_apply on\n",
    "\n",
    "fashion_df[\"product_keywords\"] = (\n",
    "    fashion_df[\"combined_text\"]\n",
    "    .progress_apply(extract_keywords)           # shows % and ETA\n",
    ")"
   ],
   "id": "7b6437c82bb53052",
   "outputs": [],
   "execution_count": null
  },
  {
   "metadata": {
    "ExecuteTime": {
     "end_time": "2025-06-11T17:56:03.715916Z",
     "start_time": "2025-06-11T17:50:19.769048Z"
    }
   },
   "cell_type": "code",
   "source": [
    "G = nx.Graph()\n",
    "\n",
    "# Add nodes\n",
    "for kw in interest_keywords:\n",
    "    G.add_node(f\"Interest:{kw}\", type=\"interest\", label=kw)\n",
    "\n",
    "for _, prod in fashion_df.iterrows():\n",
    "    prod_id = (\n",
    "        prod.get(\"id\")\n",
    "        or prod.get(\"product_id\")\n",
    "        or prod.get(\"PRODUCT_ID\")\n",
    "        or f\"idx_{prod.name}\"\n",
    "    )\n",
    "    G.add_node(f\"Product:{prod_id}\", type=\"product\", label=prod[\"product_name\"])\n",
    "\n",
    "# Add edges where keyword overlaps\n",
    "for kw in interest_keywords:\n",
    "    for _, prod in fashion_df.iterrows():\n",
    "        prod_id = (\n",
    "            prod.get(\"id\")\n",
    "            or prod.get(\"product_id\")\n",
    "            or prod.get(\"PRODUCT_ID\")\n",
    "            or f\"idx_{prod.name}\"\n",
    "        )\n",
    "        if kw in prod[\"product_keywords\"]:\n",
    "            G.add_edge(f\"Interest:{kw}\", f\"Product:{prod_id}\")\n",
    "\n",
    "some_interests = list(interest_keywords)[:5]  # first five interests\n",
    "viz_nodes = set()\n",
    "for kw in some_interests:\n",
    "    inode = f\"Interest:{kw}\"\n",
    "    viz_nodes.add(inode)\n",
    "    viz_nodes.update([v for u, v in G.edges(inode)])\n",
    "\n",
    "subG = G.subgraph(viz_nodes)\n",
    "pos  = nx.spring_layout(subG, seed=42)\n",
    "\n",
    "plt.figure(figsize=(6,5))\n",
    "nx.draw_networkx_nodes(\n",
    "    subG, pos,\n",
    "    node_color=[\"#8ecae6\" if d[\"type\"]==\"interest\" else \"#90be6d\" for _,d in subG.nodes(data=True)],\n",
    "    node_size=600, alpha=0.9\n",
    ")\n",
    "nx.draw_networkx_labels(subG, pos, labels={n:d[\"label\"] for n,d in subG.nodes(data=True)}, font_size=8)\n",
    "nx.draw_networkx_edges(subG, pos, alpha=0.4, width=1.2)\n",
    "plt.title(\"User-interest ↔ Product graph (subset)\")\n",
    "plt.axis(\"off\")\n",
    "plt.show()\n"
   ],
   "id": "d03dfd1369c72536",
   "outputs": [
    {
     "name": "stdout",
     "output_type": "stream",
     "text": [
      "Loaded 55383 search queries and 100000 catalog items.\n"
     ]
    },
    {
     "data": {
      "text/plain": [
       "                                          MAIN_IMAGE  \\\n",
       "0  https://cdna.lystit.com/photos/wolfandbadger/5...   \n",
       "1  https://cdna.lystit.com/photos/farfetch/d774e2...   \n",
       "2  https://cdna.lystit.com/photos/ssense/61ba817f...   \n",
       "\n",
       "                                        SECOND_IMAGE  \\\n",
       "0                                               None   \n",
       "1  https://cdna.lystit.com/photos/farfetch/8b088f...   \n",
       "2  https://cdna.lystit.com/photos/ssense/2289aeba...   \n",
       "\n",
       "                                         THIRD_IMAGE  \\\n",
       "0                                               None   \n",
       "1  https://cdna.lystit.com/photos/farfetch/6a4008...   \n",
       "2  https://cdna.lystit.com/photos/ssense/161426cf...   \n",
       "\n",
       "                                        FOURTH_IMAGE  \\\n",
       "0                                               None   \n",
       "1                                               None   \n",
       "2  https://cdna.lystit.com/photos/ssense/b5c625a9...   \n",
       "\n",
       "                                    LYST_PRODUCT_URL GENDER CATEGORY  \\\n",
       "0  https://www.lyst.com/shoes/laines-london-class...      F    flats   \n",
       "1  https://www.lyst.com/clothing/oscar-de-la-rent...      F   skirts   \n",
       "2  https://www.lyst.com/clothing/coperni-green-as...      F  dresses   \n",
       "\n",
       "                                   SHORT_DESCRIPTION  \\\n",
       "0  Classic Laines Slippers With Pearl Beaded Lobs...   \n",
       "1                     Dahlia Floral-print Midi Skirt   \n",
       "2                               Asymmetric Minidress   \n",
       "\n",
       "                                    LONG_DESCRIPTION  product_name  \n",
       "0  Our faux fur cross strap classic slippers offe...  Unnamed item  \n",
       "1  Material:Polyester. This item may not be on sa...  Unnamed item  \n",
       "2  Stretch nylon jersey dress. · Single-shoulder ...  Unnamed item  "
      ],
      "text/html": [
       "<div>\n",
       "<style scoped>\n",
       "    .dataframe tbody tr th:only-of-type {\n",
       "        vertical-align: middle;\n",
       "    }\n",
       "\n",
       "    .dataframe tbody tr th {\n",
       "        vertical-align: top;\n",
       "    }\n",
       "\n",
       "    .dataframe thead th {\n",
       "        text-align: right;\n",
       "    }\n",
       "</style>\n",
       "<table border=\"1\" class=\"dataframe\">\n",
       "  <thead>\n",
       "    <tr style=\"text-align: right;\">\n",
       "      <th></th>\n",
       "      <th>MAIN_IMAGE</th>\n",
       "      <th>SECOND_IMAGE</th>\n",
       "      <th>THIRD_IMAGE</th>\n",
       "      <th>FOURTH_IMAGE</th>\n",
       "      <th>LYST_PRODUCT_URL</th>\n",
       "      <th>GENDER</th>\n",
       "      <th>CATEGORY</th>\n",
       "      <th>SHORT_DESCRIPTION</th>\n",
       "      <th>LONG_DESCRIPTION</th>\n",
       "      <th>product_name</th>\n",
       "    </tr>\n",
       "  </thead>\n",
       "  <tbody>\n",
       "    <tr>\n",
       "      <th>0</th>\n",
       "      <td>https://cdna.lystit.com/photos/wolfandbadger/5...</td>\n",
       "      <td>None</td>\n",
       "      <td>None</td>\n",
       "      <td>None</td>\n",
       "      <td>https://www.lyst.com/shoes/laines-london-class...</td>\n",
       "      <td>F</td>\n",
       "      <td>flats</td>\n",
       "      <td>Classic Laines Slippers With Pearl Beaded Lobs...</td>\n",
       "      <td>Our faux fur cross strap classic slippers offe...</td>\n",
       "      <td>Unnamed item</td>\n",
       "    </tr>\n",
       "    <tr>\n",
       "      <th>1</th>\n",
       "      <td>https://cdna.lystit.com/photos/farfetch/d774e2...</td>\n",
       "      <td>https://cdna.lystit.com/photos/farfetch/8b088f...</td>\n",
       "      <td>https://cdna.lystit.com/photos/farfetch/6a4008...</td>\n",
       "      <td>None</td>\n",
       "      <td>https://www.lyst.com/clothing/oscar-de-la-rent...</td>\n",
       "      <td>F</td>\n",
       "      <td>skirts</td>\n",
       "      <td>Dahlia Floral-print Midi Skirt</td>\n",
       "      <td>Material:Polyester. This item may not be on sa...</td>\n",
       "      <td>Unnamed item</td>\n",
       "    </tr>\n",
       "    <tr>\n",
       "      <th>2</th>\n",
       "      <td>https://cdna.lystit.com/photos/ssense/61ba817f...</td>\n",
       "      <td>https://cdna.lystit.com/photos/ssense/2289aeba...</td>\n",
       "      <td>https://cdna.lystit.com/photos/ssense/161426cf...</td>\n",
       "      <td>https://cdna.lystit.com/photos/ssense/b5c625a9...</td>\n",
       "      <td>https://www.lyst.com/clothing/coperni-green-as...</td>\n",
       "      <td>F</td>\n",
       "      <td>dresses</td>\n",
       "      <td>Asymmetric Minidress</td>\n",
       "      <td>Stretch nylon jersey dress. · Single-shoulder ...</td>\n",
       "      <td>Unnamed item</td>\n",
       "    </tr>\n",
       "  </tbody>\n",
       "</table>\n",
       "</div>"
      ]
     },
     "metadata": {},
     "output_type": "display_data"
    },
    {
     "name": "stdout",
     "output_type": "stream",
     "text": [
      "Extracted interest keywords:\n",
      "['000', '0000', '00000000', '000000006445386005', '000000022198587011', '00001', '00002774', '000104746912002169', '0001079114', '000110465921001952', '000110465921072713', '0001193125', '000121390021008694', '0001578860', '0001673977', '0001691421', '0001693552', '0001708567', '0001783879', '0001795586', '00026', '0003192', '00039', '0004', '00044'] ...\n",
      "\n",
      "Sample product keywords:\n",
      "Unnamed item: ['beaded', 'brooches', 'classic', 'item', 'laines', 'lobster', 'pearl', 'shell', 'slippers', 'unnamed']\n",
      "Unnamed item: ['dahlia', 'floral', 'item', 'midi', 'print', 'skirt', 'unnamed']\n",
      "Unnamed item: ['asymmetric', 'item', 'minidress', 'unnamed']\n"
     ]
    },
    {
     "name": "stderr",
     "output_type": "stream",
     "text": [
      "Exception ignored in: <bound method IPythonKernel._clean_thread_parent_frames of <ipykernel.ipkernel.IPythonKernel object at 0x0000014FBE62E1D0>>\n",
      "Traceback (most recent call last):\n",
      "  File \"C:\\Users\\horva\\miniconda3\\envs\\onfabric\\Lib\\site-packages\\ipykernel\\ipkernel.py\", line 775, in _clean_thread_parent_frames\n",
      "    def _clean_thread_parent_frames(\n",
      "\n",
      "KeyboardInterrupt: \n",
      "\n",
      "KeyboardInterrupt\n",
      "\n",
      "\n",
      "KeyboardInterrupt\n",
      "\n"
     ]
    }
   ],
   "execution_count": 1
  },
  {
   "metadata": {},
   "cell_type": "code",
   "outputs": [],
   "execution_count": null,
   "source": "",
   "id": "bfe87c95aed9d1f0"
  }
 ],
 "metadata": {
  "kernelspec": {
   "display_name": "Python 3",
   "language": "python",
   "name": "python3"
  },
  "language_info": {
   "codemirror_mode": {
    "name": "ipython",
    "version": 2
   },
   "file_extension": ".py",
   "mimetype": "text/x-python",
   "name": "python",
   "nbconvert_exporter": "python",
   "pygments_lexer": "ipython2",
   "version": "2.7.6"
  }
 },
 "nbformat": 4,
 "nbformat_minor": 5
}
