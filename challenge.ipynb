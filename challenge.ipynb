{
 "cells": [
  {
   "cell_type": "markdown",
   "metadata": {},
   "source": [
    "### Challenge\n",
    "At FakeFashionCorp, we're always looking to **improve our product recommendations for our customers**. As a member of our data science team, your task is to make the best recommendations possible based on the provided data:\n",
    "\n",
    "- **Customer Search Data**: A list of google search queries made by a **specific** customer. You can find the data in the `./search_history.json` file.\n",
    "- **Product Catalog**: A dataset containing 100,000 **fashion items** from our current inventory, including details such as product name, category, description, and other relevant attributes. You can find the data in the `./fashion_catalog.json` file.\n",
    "\n",
    "Your challenge is to analyze the customer's search history and use this information to select the most relevant items from our product catalog that we should recommend to this customer.\n",
    "\n",
    "Here are the specific requirements:\n",
    "\n",
    "- Select the top items that best match the customer's apparent interests and preferences.\n",
    "- Provide a brief explanation of your approach, including any assumptions you made and the reasoning behind your methodology.\n",
    "- Include any visualizations or metrics that support your recommendations.\n",
    "- Make sure to include the cell output in the final commit, we will **not** execute the script ourselves.\n",
    "\n",
    "### Dummy approach\n",
    "The following is what we consider a **dummy** approach. We expect you to find a more clever solution that this:\n",
    "1. embed the customer's searches\n",
    "2. rank the searches according to some semantic similarity to a fashion related anchor\n",
    "3. for each fashion related search, find the product in the catalog that is most similar\n",
    "\n",
    "We encourage you to be creative in your approach. There's no single correct solution, and we're interested in seeing how you tackle this real-world problem.\n",
    "\n",
    "Hint: **how can we truly understand the customer's preferences?**"
   ]
  },
  {
   "cell_type": "code",
   "execution_count": null,
   "metadata": {},
   "outputs": [],
   "source": [
    "# add your code here"
   ]
  }
 ],
 "metadata": {
  "kernelspec": {
   "display_name": "fashion",
   "language": "python",
   "name": "python3"
  },
  "language_info": {
   "codemirror_mode": {
    "name": "ipython",
    "version": 3
   },
   "file_extension": ".py",
   "mimetype": "text/x-python",
   "name": "python",
   "nbconvert_exporter": "python",
   "pygments_lexer": "ipython3",
   "version": "3.10.14"
  }
 },
 "nbformat": 4,
 "nbformat_minor": 2
}
